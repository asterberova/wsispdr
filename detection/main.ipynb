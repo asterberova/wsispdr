{
 "cells": [
  {
   "cell_type": "code",
   "execution_count": 1,
   "metadata": {},
   "outputs": [
    {
     "ename": "ModuleNotFoundError",
     "evalue": "No module named 'skimage'",
     "traceback": [
      "\u001b[0;31m---------------------------------------------------------------------------\u001b[0m",
      "\u001b[0;31mModuleNotFoundError\u001b[0m                       Traceback (most recent call last)",
      "\u001b[0;32m<ipython-input-1-2d5f02123b8b>\u001b[0m in \u001b[0;36m<module>\u001b[0;34m()\u001b[0m\n\u001b[1;32m     11\u001b[0m \u001b[0;32mimport\u001b[0m \u001b[0mtorch\u001b[0m\u001b[0;34m.\u001b[0m\u001b[0mnn\u001b[0m\u001b[0;34m.\u001b[0m\u001b[0mfunctional\u001b[0m \u001b[0;32mas\u001b[0m \u001b[0mF\u001b[0m\u001b[0;34m\u001b[0m\u001b[0;34m\u001b[0m\u001b[0m\n\u001b[1;32m     12\u001b[0m \u001b[0;32mfrom\u001b[0m \u001b[0mtorch\u001b[0m \u001b[0;32mimport\u001b[0m \u001b[0moptim\u001b[0m\u001b[0;34m\u001b[0m\u001b[0;34m\u001b[0m\u001b[0m\n\u001b[0;32m---> 13\u001b[0;31m \u001b[0;32mfrom\u001b[0m \u001b[0meval\u001b[0m \u001b[0;32mimport\u001b[0m \u001b[0meval_net\u001b[0m\u001b[0;34m\u001b[0m\u001b[0;34m\u001b[0m\u001b[0m\n\u001b[0m\u001b[1;32m     14\u001b[0m \u001b[0;32mfrom\u001b[0m \u001b[0munet\u001b[0m \u001b[0;32mimport\u001b[0m \u001b[0mUNet\u001b[0m\u001b[0;34m\u001b[0m\u001b[0;34m\u001b[0m\u001b[0m\n\u001b[1;32m     15\u001b[0m \u001b[0;32mfrom\u001b[0m \u001b[0mutils\u001b[0m \u001b[0;32mimport\u001b[0m \u001b[0mget_imgs_and_masks\u001b[0m\u001b[0;34m,\u001b[0m \u001b[0mbatch\u001b[0m\u001b[0;34m\u001b[0m\u001b[0;34m\u001b[0m\u001b[0m\n",
      "\u001b[0;32m~/research/unet_pytorch/eval.py\u001b[0m in \u001b[0;36m<module>\u001b[0;34m()\u001b[0m\n\u001b[1;32m      3\u001b[0m \u001b[0;32mimport\u001b[0m \u001b[0mmath\u001b[0m\u001b[0;34m\u001b[0m\u001b[0;34m\u001b[0m\u001b[0m\n\u001b[1;32m      4\u001b[0m \u001b[0;32mimport\u001b[0m \u001b[0mpulp\u001b[0m\u001b[0;34m\u001b[0m\u001b[0;34m\u001b[0m\u001b[0m\n\u001b[0;32m----> 5\u001b[0;31m \u001b[0;32mfrom\u001b[0m \u001b[0mskimage\u001b[0m\u001b[0;34m.\u001b[0m\u001b[0mfeature\u001b[0m \u001b[0;32mimport\u001b[0m \u001b[0mpeak_local_max\u001b[0m\u001b[0;34m\u001b[0m\u001b[0;34m\u001b[0m\u001b[0m\n\u001b[0m\u001b[1;32m      6\u001b[0m \u001b[0;32mimport\u001b[0m \u001b[0mmatplotlib\u001b[0m\u001b[0;34m.\u001b[0m\u001b[0mpyplot\u001b[0m \u001b[0;32mas\u001b[0m \u001b[0mplt\u001b[0m\u001b[0;34m\u001b[0m\u001b[0;34m\u001b[0m\u001b[0m\n\u001b[1;32m      7\u001b[0m \u001b[0;32mimport\u001b[0m \u001b[0mcv2\u001b[0m\u001b[0;34m\u001b[0m\u001b[0;34m\u001b[0m\u001b[0m\n",
      "\u001b[0;31mModuleNotFoundError\u001b[0m: No module named 'skimage'"
     ],
     "output_type": "error"
    }
   ],
   "source": [
    "% matplotlib inline\n",
    "import warnings\n",
    "warnings.filterwarnings(\"ignore\")\n",
    "\n",
    "device = 1\n",
    "from train import *\n",
    "from unet import *\n",
    "\n",
    "\n",
    "if __name__ == \"__main__\":\n",
    "    torch.cuda.set_device(device)\n",
    "    mode = \"single\"\n",
    "    plot_size = 12\n",
    "    train_path = Path(\"./images/challenge/fr1_center\")\n",
    "    val_path = Path(\"./images/challenge/val_center\")\n",
    "    save_weight_path = Path(\"./weight/challenge/best_{}.pth\".format(plot_size))\n",
    "\n",
    "    models = {\n",
    "        \"single\": UNetOnlyConv,\n",
    "        \"cascade\": UNetCascadeContinue,\n",
    "        \"cascade_internal\": UNetInternalCascade,\n",
    "        \"multi\": UnetMultiFixedWeight,\n",
    "        \"cascade_continue\": UNetCascadeContinue,\n",
    "    }\n",
    "    net = models[mode](n_channels=1, n_classes=1)\n",
    "    net.cuda()\n",
    "\n",
    "    train = TrainNet(\n",
    "        net=net,\n",
    "        mode=mode,\n",
    "        epochs=500,\n",
    "        batch_size=10,\n",
    "        lr=1e-5,\n",
    "        gpu=True,\n",
    "        plot_size=plot_size,\n",
    "        train_path=train_path,\n",
    "        val_path=val_path,\n",
    "        weight_path=save_weight_path,\n",
    "    )\n",
    "\n",
    "    train.train()\n"
   ]
  },
  {
   "cell_type": "code",
   "execution_count": null,
   "metadata": {},
   "outputs": [],
   "source": [
    "col_labels=[\n",
    "    \"input\",\n",
    "    \"Guided Grad-CAM\",\n",
    "    \"LRP\",\n",
    "    \"CLRP\",\n",
    "    \"SGLRP\",\n",
    "]\n",
    "grid = [\n",
    "    [\n",
    "        original_input_imgs[i].astype(int),\n",
    "        relu(analysis_guidedgradcam[i]).sum(axis=2),\n",
    "        relu(analysis_target[i]).sum(axis=(2)),\n",
    "        relu(analysis_clrp1[i]).sum(axis=(2)),\n",
    "        relu(analysis_softmax_clrp2[i]).sum(axis=(2)),\n",
    "    ]\n",
    "    for i,_ in enumerate(original_input_imgs)\n",
    "]"
   ]
  },
  {
   "cell_type": "code",
   "execution_count": null,
   "metadata": {},
   "outputs": [],
   "source": [
    "plot_image_grid(grid, file_name=\"./results/figure.pdf\", col_labels=col_labels, figsize=(20,20))\n",
    "plt.show()\n",
    "plt.tight_layout()"
   ]
  },
  {
   "cell_type": "code",
   "execution_count": null,
   "metadata": {},
   "outputs": [],
   "source": [
    ""
   ]
  },
  {
   "cell_type": "code",
   "execution_count": null,
   "metadata": {},
   "outputs": [],
   "source": [
    "for image in analysis_target:\n",
    "    heatmap = image.sum(axis=(2))\n",
    "    M = np.abs(heatmap).max()\n",
    "    plt.imshow(heatmap, cmap=\"seismic\", vmax=M, vmin=-M)\n",
    "    plt.xticks([])\n",
    "    plt.yticks([])\n",
    "    plt.show()"
   ]
  }
 ],
 "metadata": {
  "kernelspec": {
   "display_name": "Python 3",
   "language": "python",
   "name": "python3"
  },
  "language_info": {
   "codemirror_mode": {
    "name": "ipython",
    "version": 3
   },
   "file_extension": ".py",
   "mimetype": "text/x-python",
   "name": "python",
   "nbconvert_exporter": "python",
   "pygments_lexer": "ipython3",
   "version": "3.6.7"
  }
 },
 "nbformat": 4,
 "nbformat_minor": 2
}
